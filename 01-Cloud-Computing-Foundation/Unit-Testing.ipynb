{
 "cells": [
  {
   "cell_type": "markdown",
   "id": "395fb9b5",
   "metadata": {},
   "source": [
    "### Lab Goal\n",
    "\n",
    "Learn unit testing concepts by writing and running test functions using Python assert statements.\n",
    "\n",
    "### Lab Description\n",
    "\n",
    "In this hands-on lab, you will validate the behavior of functions by writing assert statements to check return values and catch errors.\n",
    "\n",
    "### Lab Steps\n",
    "\n",
    "1. Define a function called increment that takes a number as input and returns the number plus 1\n",
    "\n",
    "2. Define a test function called test_increment\n",
    "\n",
    "3. Inside the test function, assert that:\n",
    "\n",
    "* Calling increment(3) returns 4\n",
    "\n",
    "* Calling increment(5) returns 6\n",
    "\n",
    "* Calling increment(-2) raises an AssertionError\n",
    "\n",
    "4. Call the test_increment function to execute all asserts\n",
    "\n",
    "5. Use try/except to catch and handle any AssertionErrors\n",
    "\n",
    "6. Define 2 more functions and corresponding test functions"
   ]
  },
  {
   "cell_type": "code",
   "execution_count": null,
   "id": "4bbe1b2b",
   "metadata": {},
   "outputs": [
    {
     "name": "stdout",
     "output_type": "stream",
     "text": [
      "Incrementing negative number failed:  increment(-2) test should fail\n"
     ]
    }
   ],
   "source": [
    "def increment(x):\n",
    "    return x + 1\n",
    "\n",
    "def test_increment():\n",
    "    assert increment(3) == 4, \"Increment failed\"\n",
    "    assert increment(5) == 6, \"Increment failed\"\n",
    "    \n",
    "    #Catch failures with try/except\n",
    "    \n",
    "    try:\n",
    "        assert increment(-2) == -1\n",
    "        assert False, \"increment(-2) test should fail\" \n",
    "    except AssertionError as e:\n",
    "        print(\"Incrementing negative number failed: \", e)\n",
    "    \n",
    "\n",
    "test_increment()"
   ]
  },
  {
   "cell_type": "code",
   "execution_count": null,
   "id": "6e8c505c",
   "metadata": {},
   "outputs": [
    {
     "name": "stdout",
     "output_type": "stream",
     "text": [
      "error Square failed\n"
     ]
    }
   ],
   "source": [
    "# --- 1st more function ---\n",
    "def square(x):\n",
    "    return x * x\n",
    "\n",
    "def test_square():\n",
    "    assert square(3) == 9, \"Square failed\"\n",
    "    assert square(-4) == 16, \"Square failed\"\n",
    "    assert square(0) == 0, \"Square failed\"\n",
    "\n",
    "    try:\n",
    "        assert square(3) == 4, \"Square failed\"\n",
    "    except Exception as e:\n",
    "        print(\"error:\", e)\n",
    "\n",
    "test_square()\n"
   ]
  },
  {
   "cell_type": "code",
   "execution_count": 50,
   "id": "14b3b8b7",
   "metadata": {},
   "outputs": [
    {
     "name": "stdout",
     "output_type": "stream",
     "text": [
      "error: Multiply failed\n"
     ]
    }
   ],
   "source": [
    "# --- 2nd more function ---\n",
    "def multiply(x, y):\n",
    "    return x * y\n",
    "\n",
    "def test_multiply():\n",
    "    assert multiply(3, 4) == 12, \"Multiply failed\"\n",
    "    assert multiply(-2, 5) == -10, \"Multiply failed\"\n",
    "    assert multiply(0, 0) == 0, \"Multiply failed\"\n",
    "\n",
    "    try:\n",
    "        assert multiply(3, \"4\") == 12, \"Multiply failed\"\n",
    "    except Exception as e:\n",
    "        print(\"error:\", e)\n",
    "\n",
    "test_multiply()\n"
   ]
  },
  {
   "cell_type": "markdown",
   "id": "c407083e",
   "metadata": {},
   "source": [
    "### Reflection Questions\n",
    "\n",
    "1. When might you use asserts vs the unittest module for testing?\n",
    "\n",
    "2. What types of input can you test with asserts?\n",
    "\n",
    "3. How do you refactor tests to maximize code reuse?\n",
    "\n",
    "4. How could you expand asserts to validate more complex code?\n",
    "\n",
    "5. What challenges have you faced trying to test your own code?"
   ]
  },
  {
   "cell_type": "markdown",
   "id": "022af716",
   "metadata": {},
   "source": [
    "### Challenge Exercises\n",
    "\n",
    "1. Parameterize tests to validate multiple inputs\n",
    "\n",
    "2. Chain multiple asserts to check different results\n",
    "\n",
    "3. Write a custom assert method to validate against thresholds\n",
    "\n",
    "4. Create helper functions for generating test data\n",
    "\n",
    "5. Handle expected errors as exceptions vs failures"
   ]
  }
 ],
 "metadata": {
  "kernelspec": {
   "display_name": "ai-env",
   "language": "python",
   "name": "ai-env"
  },
  "language_info": {
   "codemirror_mode": {
    "name": "ipython",
    "version": 3
   },
   "file_extension": ".py",
   "mimetype": "text/x-python",
   "name": "python",
   "nbconvert_exporter": "python",
   "pygments_lexer": "ipython3",
   "version": "3.10.18"
  }
 },
 "nbformat": 4,
 "nbformat_minor": 5
}
